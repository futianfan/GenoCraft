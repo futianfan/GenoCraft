{
 "cells": [
  {
   "cell_type": "code",
   "execution_count": null,
   "metadata": {},
   "outputs": [],
   "source": [
    "mkdir genomics_app\n",
    "cd genomics_app"
   ]
  },
  {
   "cell_type": "code",
   "execution_count": null,
   "metadata": {},
   "outputs": [],
   "source": [
    "#Create a virtual environment and activate it:\n",
    "python3 -m venv venv\n",
    "source venv/bin/activate  # For Unix/Linux\n",
    "venv\\Scripts\\activate  # For Windows"
   ]
  },
  {
   "cell_type": "code",
   "execution_count": null,
   "metadata": {},
   "outputs": [],
   "source": [
    "pip install flask scipy scikit-learn enrichr"
   ]
  },
  {
   "cell_type": "code",
   "execution_count": null,
   "metadata": {},
   "outputs": [],
   "source": [
    "#Create a file named app.py and add the following code:\n",
    "from flask import Flask, render_template, request\n",
    "import numpy as np\n",
    "from scipy import stats\n",
    "from sklearn.impute import KNNImputer\n",
    "from scipy.stats import ttest_ind\n",
    "from enrichr import enrichr\n",
    "\n",
    "app = Flask(__name__)\n",
    "\n",
    "def outlier_detection(data, threshold=3):\n",
    "    z_scores = np.abs(stats.zscore(data))\n",
    "    outliers = np.where(z_scores > threshold, True, False)\n",
    "    return outliers\n",
    "\n",
    "def missing_data_imputation(data, n_neighbors=5):\n",
    "    imputer = KNNImputer(n_neighbors=n_neighbors)\n",
    "    imputed_data = imputer.fit_transform(data)\n",
    "    return imputed_data\n",
    "\n",
    "def biomarker_selection(data, class_labels, n_features=10):\n",
    "    class_1_data = data[class_labels == 0]\n",
    "    class_2_data = data[class_labels == 1]\n",
    "    _, p_values = ttest_ind(class_1_data, class_2_data, axis=0)\n",
    "    top_features_indices = np.argsort(p_values)[:n_features]\n",
    "    top_features = data[top_features_indices]\n",
    "    return top_features\n",
    "\n",
    "def downstream_analysis(biomarkers):\n",
    "    enrichment_results = enrichr.run(list(biomarkers), gene_sets=['KEGG_2019_Human'])\n",
    "    enriched_pathways = enrichment_results['KEGG_2019_Human']['Term']\n",
    "    return enriched_pathways\n",
    "\n",
    "@app.route('/', methods=['GET', 'POST'])\n",
    "def index():\n",
    "    if request.method == 'POST':\n",
    "        # Process the uploaded gene expression data\n",
    "        file = request.files['expression_data']\n",
    "        expression_data = np.loadtxt(file, delimiter=',')  # Assuming CSV file format\n",
    "        class_labels = np.array(request.form.getlist('class_labels'), dtype=int)\n",
    "        \n",
    "        # Perform the genomics analysis pipeline\n",
    "        outliers = outlier_detection(expression_data)\n",
    "        imputed_data = missing_data_imputation(expression_data)\n",
    "        selected_biomarkers = biomarker_selection(imputed_data, class_labels)\n",
    "        enriched_pathways = downstream_analysis(selected_biomarkers)\n",
    "        \n",
    "        # Render the results template\n",
    "        return render_template('results.html', outliers=outliers, biomarkers=selected_biomarkers, pathways=enriched_pathways)\n",
    "    \n",
    "    # Render the upload form template\n",
    "    return render_template('upload.html')\n",
    "\n",
    "if __name__ == '__main__':\n",
    "    app.run(debug=True)\n"
   ]
  },
  {
   "cell_type": "code",
   "execution_count": null,
   "metadata": {},
   "outputs": [],
   "source": [
    "#Run the Flask application:\n",
    "export FLASK_APP=app.py  # For Unix/Linux\n",
    "set FLASK_APP=app.py  # For Windows\n",
    "flask run\n"
   ]
  }
 ],
 "metadata": {
  "kernelspec": {
   "display_name": "Python 3",
   "language": "python",
   "name": "python3"
  },
  "language_info": {
   "codemirror_mode": {
    "name": "ipython",
    "version": 3
   },
   "file_extension": ".py",
   "mimetype": "text/x-python",
   "name": "python",
   "nbconvert_exporter": "python",
   "pygments_lexer": "ipython3",
   "version": "3.6.5"
  }
 },
 "nbformat": 4,
 "nbformat_minor": 5
}
