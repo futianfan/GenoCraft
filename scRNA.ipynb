{
 "cells": [
  {
   "cell_type": "code",
   "execution_count": null,
   "metadata": {},
   "outputs": [],
   "source": [
    "import numpy as np\n",
    "import pandas as pd\n",
    "from sklearn.decomposition import PCA\n",
    "from sklearn.preprocessing import StandardScaler\n",
    "from scipy import sparse\n",
    "import matplotlib.pyplot as plt\n",
    "from sklearn.cluster import KMeans\n",
    "\n",
    "# Load the count matrix\n",
    "# Assuming it's a csv file with rows as genes and columns as cells\n",
    "counts = pd.read_csv(\"counts.csv\", index_col=0)\n",
    "\n",
    "# Transpose so that rows are cells and columns are genes\n",
    "counts = counts.transpose()\n",
    "\n",
    "# Normalization (CPM normalization)\n",
    "counts = counts.div(counts.sum(axis=1), axis=0)\n",
    "counts = counts.mul(10**6)\n",
    "\n",
    "# Logarithmize the data\n",
    "counts = np.log1p(counts)\n",
    "\n",
    "# Scale data to zero mean and unit variance\n",
    "scaler = StandardScaler()\n",
    "counts_scaled = pd.DataFrame(scaler.fit_transform(counts), columns=counts.columns, index=counts.index)\n",
    "\n",
    "# Run PCA\n",
    "pca = PCA(n_components=50)\n",
    "pca_result = pca.fit_transform(counts_scaled)\n",
    "\n",
    "# Plot explained variance\n",
    "plt.plot(range(pca.n_components_), np.cumsum(pca.explained_variance_ratio_))\n",
    "plt.xlabel('Number of Principal Components')\n",
    "plt.ylabel('Cumulative Explained Variance')\n",
    "plt.show()\n"
   ]
  },
  {
   "cell_type": "code",
   "execution_count": 1,
   "metadata": {},
   "outputs": [
    {
     "ename": "NameError",
     "evalue": "name 'pca_result' is not defined",
     "output_type": "error",
     "traceback": [
      "\u001b[1;31m---------------------------------------------------------------------------\u001b[0m",
      "\u001b[1;31mNameError\u001b[0m                                 Traceback (most recent call last)",
      "\u001b[1;32m<ipython-input-1-8b0bbb0d3380>\u001b[0m in \u001b[0;36m<module>\u001b[1;34m()\u001b[0m\n\u001b[0;32m      6\u001b[0m \u001b[1;33m\u001b[0m\u001b[0m\n\u001b[0;32m      7\u001b[0m \u001b[1;31m# Run k-means clustering on the PCA result\u001b[0m\u001b[1;33m\u001b[0m\u001b[1;33m\u001b[0m\u001b[0m\n\u001b[1;32m----> 8\u001b[1;33m \u001b[0mkmeans\u001b[0m \u001b[1;33m=\u001b[0m \u001b[0mKMeans\u001b[0m\u001b[1;33m(\u001b[0m\u001b[0mn_clusters\u001b[0m\u001b[1;33m=\u001b[0m\u001b[0mn_clusters\u001b[0m\u001b[1;33m,\u001b[0m \u001b[0mrandom_state\u001b[0m\u001b[1;33m=\u001b[0m\u001b[1;36m0\u001b[0m\u001b[1;33m)\u001b[0m\u001b[1;33m.\u001b[0m\u001b[0mfit\u001b[0m\u001b[1;33m(\u001b[0m\u001b[0mpca_result\u001b[0m\u001b[1;33m)\u001b[0m\u001b[1;33m\u001b[0m\u001b[0m\n\u001b[0m\u001b[0;32m      9\u001b[0m \u001b[1;33m\u001b[0m\u001b[0m\n\u001b[0;32m     10\u001b[0m \u001b[1;31m# Assign clusters back to original dataframe\u001b[0m\u001b[1;33m\u001b[0m\u001b[1;33m\u001b[0m\u001b[0m\n",
      "\u001b[1;31mNameError\u001b[0m: name 'pca_result' is not defined"
     ]
    }
   ],
   "source": [
    "#clustering\n",
    "from sklearn.cluster import KMeans\n",
    "\n",
    "# Assume we have 10 clusters\n",
    "n_clusters = 10\n",
    "\n",
    "# Run k-means clustering on the PCA result\n",
    "kmeans = KMeans(n_clusters=n_clusters, random_state=0).fit(pca_result)\n",
    "\n",
    "# Assign clusters back to original dataframe\n",
    "counts['cluster'] = kmeans.labels_\n"
   ]
  },
  {
   "cell_type": "code",
   "execution_count": null,
   "metadata": {},
   "outputs": [],
   "source": [
    "#DEG\n",
    "import statsmodels.api as sm\n",
    "from scipy import stats\n",
    "\n",
    "# Perform a t-test for each gene to find differentially expressed genes\n",
    "def differential_expression(data, labels):\n",
    "    cluster_labels = np.unique(labels)\n",
    "    results = []\n",
    "    for gene in data.columns:\n",
    "        group1 = data.loc[labels == cluster_labels[0], gene]\n",
    "        group2 = data.loc[labels == cluster_labels[1], gene]\n",
    "        t_stat, p_val = stats.ttest_ind(group1, group2)\n",
    "        results.append((gene, t_stat, p_val))\n",
    "    # Correct for multiple testing\n",
    "    _, p_vals_corrected, _, _ = sm.stats.multipletests([x[2] for x in results], method='fdr_bh')\n",
    "    results_corrected = [(x[0], x[1], p) for x, p in zip(results, p_vals_corrected)]\n",
    "    return results_corrected\n",
    "\n",
    "differential_expression_results = differential_expression(counts, kmeans.labels_)\n",
    "\n"
   ]
  },
  {
   "cell_type": "code",
   "execution_count": null,
   "metadata": {},
   "outputs": [],
   "source": [
    "#Gene Set Enrichment Anlasis\n",
    "import gseapy as gp\n",
    "\n",
    "# Let's assume that `differential_expression_results` is the list of tuples you got from the differential expression analysis\n",
    "# and each tuple contains a gene name, t-statistic, and corrected p-value\n",
    "\n",
    "# Convert the differential expression results into a format that gseapy can use\n",
    "gene_list = sorted(differential_expression_results, key=lambda x: x[2])\n",
    "gene_list = [x[0] for x in gene_list]\n",
    "\n",
    "# Run Enrichr\n",
    "# 'gene_sets' can be the name of a gene set library in Enrichr\n",
    "enrichr_results = gp.enrichr(gene_list=gene_list, description='pathway', gene_sets='KEGG_2016', outdir='enrichr_output')\n",
    "\n",
    "# Display the results\n",
    "print(enrichr_results.results)\n"
   ]
  },
  {
   "cell_type": "code",
   "execution_count": null,
   "metadata": {},
   "outputs": [],
   "source": [
    "#Heatmap display\n",
    "import seaborn as sns\n",
    "import matplotlib.pyplot as plt\n",
    "\n",
    "# Let's assume that `differential_expression_results` is the list of tuples you got from the differential expression analysis\n",
    "# and each tuple contains a gene name, t-statistic, and corrected p-value\n",
    "\n",
    "# Select DEGs based on some threshold\n",
    "degs = [x[0] for x in differential_expression_results if x[2] < 0.05]\n",
    "\n",
    "# Subset the original dataframe to include only DEGs\n",
    "deg_df = counts[degs]\n",
    "\n",
    "# Plot the heatmap\n",
    "plt.figure(figsize=(10, 8))\n",
    "sns.heatmap(deg_df, cmap=\"RdBu_r\")\n",
    "plt.show()\n"
   ]
  }
 ],
 "metadata": {
  "kernelspec": {
   "display_name": "Python 3",
   "language": "python",
   "name": "python3"
  },
  "language_info": {
   "codemirror_mode": {
    "name": "ipython",
    "version": 3
   },
   "file_extension": ".py",
   "mimetype": "text/x-python",
   "name": "python",
   "nbconvert_exporter": "python",
   "pygments_lexer": "ipython3",
   "version": "3.6.5"
  }
 },
 "nbformat": 4,
 "nbformat_minor": 2
}
