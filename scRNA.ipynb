{
 "cells": [
  {
   "cell_type": "code",
   "execution_count": null,
   "metadata": {},
   "outputs": [],
   "source": [
    "import numpy as np\n",
    "import pandas as pd\n",
    "from sklearn.decomposition import PCA\n",
    "from sklearn.preprocessing import StandardScaler\n",
    "from scipy import sparse\n",
    "import matplotlib.pyplot as plt\n",
    "from sklearn.cluster import KMeans\n",
    "\n",
    "# Load the count matrix\n",
    "# Assuming it's a csv file with rows as genes and columns as cells\n",
    "counts = pd.read_csv(\"counts.csv\", index_col=0)\n",
    "\n",
    "# Transpose so that rows are cells and columns are genes\n",
    "counts = counts.transpose()\n",
    "\n",
    "# Normalization (CPM normalization)\n",
    "counts = counts.div(counts.sum(axis=1), axis=0)\n",
    "counts = counts.mul(10**6)\n",
    "\n",
    "# Logarithmize the data\n",
    "counts = np.log1p(counts)\n",
    "\n",
    "# Scale data to zero mean and unit variance\n",
    "scaler = StandardScaler()\n",
    "counts_scaled = pd.DataFrame(scaler.fit_transform(counts), columns=counts.columns, index=counts.index)\n",
    "\n",
    "# Run PCA\n",
    "pca = PCA(n_components=50)\n",
    "pca_result = pca.fit_transform(counts_scaled)\n",
    "\n",
    "# Plot explained variance\n",
    "plt.plot(range(pca.n_components_), np.cumsum(pca.explained_variance_ratio_))\n",
    "plt.xlabel('Number of Principal Components')\n",
    "plt.ylabel('Cumulative Explained Variance')\n",
    "plt.show()\n",
    "\n",
    "# Run k-means clustering\n",
    "kmeans = KMeans(n_clusters=10, random_state=0).fit(pca_result)\n",
    "\n",
    "# Assign clusters back to original dataframe\n",
    "counts['cluster'] = kmeans.labels_\n"
   ]
  }
 ],
 "metadata": {
  "kernelspec": {
   "display_name": "Python 3",
   "language": "python",
   "name": "python3"
  },
  "language_info": {
   "codemirror_mode": {
    "name": "ipython",
    "version": 3
   },
   "file_extension": ".py",
   "mimetype": "text/x-python",
   "name": "python",
   "nbconvert_exporter": "python",
   "pygments_lexer": "ipython3",
   "version": "3.6.5"
  }
 },
 "nbformat": 4,
 "nbformat_minor": 2
}
